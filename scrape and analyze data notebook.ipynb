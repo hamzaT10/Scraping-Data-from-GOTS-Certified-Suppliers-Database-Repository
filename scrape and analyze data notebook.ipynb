{
  "nbformat": 4,
  "nbformat_minor": 0,
  "metadata": {
    "colab": {
      "provenance": []
    },
    "kernelspec": {
      "name": "python3",
      "display_name": "Python 3"
    },
    "language_info": {
      "name": "python"
    }
  },
  "cells": [
    {
      "cell_type": "markdown",
      "source": [
        "# Data Scraping Part"
      ],
      "metadata": {
        "id": "M_yZaoI1S5KC"
      }
    },
    {
      "cell_type": "markdown",
      "source": [
        "First, we will set up for running Selenium in Google Colab\n"
      ],
      "metadata": {
        "id": "m4I6xG4A03-0"
      }
    },
    {
      "cell_type": "code",
      "execution_count": 119,
      "metadata": {
        "colab": {
          "base_uri": "https://localhost:8080/"
        },
        "id": "Y50tKxKy0ie3",
        "outputId": "ef331cce-cc0b-4243-ad69-88f761bee203"
      },
      "outputs": [
        {
          "output_type": "stream",
          "name": "stdout",
          "text": [
            "\u001b[33m\r0% [Working]\u001b[0m\r            \rHit:1 https://cloud.r-project.org/bin/linux/ubuntu jammy-cran40/ InRelease\n",
            "\u001b[33m\r0% [Connecting to archive.ubuntu.com (91.189.91.82)] [Connecting to security.ub\u001b[0m\r                                                                               \rHit:2 https://developer.download.nvidia.com/compute/cuda/repos/ubuntu2204/x86_64  InRelease\n",
            "\u001b[33m\r0% [Waiting for headers] [Waiting for headers] [Connecting to ppa.launchpadcont\u001b[0m\r                                                                               \rHit:3 http://archive.ubuntu.com/ubuntu jammy InRelease\n",
            "Get:4 http://security.ubuntu.com/ubuntu jammy-security InRelease [110 kB]\n",
            "Get:5 http://archive.ubuntu.com/ubuntu jammy-updates InRelease [119 kB]\n",
            "Hit:6 http://archive.ubuntu.com/ubuntu jammy-backports InRelease\n",
            "Hit:7 https://ppa.launchpadcontent.net/c2d4u.team/c2d4u4.0+/ubuntu jammy InRelease\n",
            "Hit:8 https://ppa.launchpadcontent.net/deadsnakes/ppa/ubuntu jammy InRelease\n",
            "Hit:9 https://ppa.launchpadcontent.net/graphics-drivers/ppa/ubuntu jammy InRelease\n",
            "Hit:10 https://ppa.launchpadcontent.net/ubuntugis/ppa/ubuntu jammy InRelease\n",
            "Fetched 229 kB in 1s (198 kB/s)\n",
            "Reading package lists... Done\n",
            "Building dependency tree... Done\n",
            "Reading state information... Done\n",
            "28 packages can be upgraded. Run 'apt list --upgradable' to see them.\n",
            "Reading package lists... Done\n",
            "Building dependency tree... Done\n",
            "Reading state information... Done\n",
            "wget is already the newest version (1.21.2-2ubuntu1).\n",
            "curl is already the newest version (7.81.0-1ubuntu1.15).\n",
            "unzip is already the newest version (6.0-26ubuntu3.1).\n",
            "You might want to run 'apt --fix-broken install' to correct these.\n",
            "The following packages have unmet dependencies:\n",
            " google-chrome-stable : Depends: libvulkan1 but it is not going to be installed\n",
            "\u001b[1;31mE: \u001b[0mUnmet dependencies. Try 'apt --fix-broken install' with no packages (or specify a solution).\u001b[0m\n",
            "--2023-12-21 15:45:57--  http://archive.ubuntu.com/ubuntu/pool/main/libu/libu2f-host/libu2f-udev_1.1.4-1_all.deb\n",
            "Resolving archive.ubuntu.com (archive.ubuntu.com)... 91.189.91.82, 185.125.190.39, 185.125.190.36, ...\n",
            "Connecting to archive.ubuntu.com (archive.ubuntu.com)|91.189.91.82|:80... connected.\n",
            "HTTP request sent, awaiting response... 200 OK\n",
            "Length: 3708 (3.6K) [application/vnd.debian.binary-package]\n",
            "Saving to: ‘libu2f-udev_1.1.4-1_all.deb.2’\n",
            "\n",
            "libu2f-udev_1.1.4-1 100%[===================>]   3.62K  --.-KB/s    in 0s      \n",
            "\n",
            "2023-12-21 15:45:57 (280 MB/s) - ‘libu2f-udev_1.1.4-1_all.deb.2’ saved [3708/3708]\n",
            "\n",
            "(Reading database ... 121778 files and directories currently installed.)\n",
            "Preparing to unpack libu2f-udev_1.1.4-1_all.deb ...\n",
            "Unpacking libu2f-udev (1.1.4-1) over (1.1.4-1) ...\n",
            "Setting up libu2f-udev (1.1.4-1) ...\n",
            "--2023-12-21 15:45:58--  https://dl.google.com/linux/direct/google-chrome-stable_current_amd64.deb\n",
            "Resolving dl.google.com (dl.google.com)... 142.251.2.93, 142.251.2.91, 142.251.2.190, ...\n",
            "Connecting to dl.google.com (dl.google.com)|142.251.2.93|:443... connected.\n",
            "HTTP request sent, awaiting response... 200 OK\n",
            "Length: 104953176 (100M) [application/x-debian-package]\n",
            "Saving to: ‘google-chrome-stable_current_amd64.deb.2’\n",
            "\n",
            "google-chrome-stabl 100%[===================>] 100.09M   326MB/s    in 0.3s    \n",
            "\n",
            "2023-12-21 15:45:58 (326 MB/s) - ‘google-chrome-stable_current_amd64.deb.2’ saved [104953176/104953176]\n",
            "\n",
            "(Reading database ... 121778 files and directories currently installed.)\n",
            "Preparing to unpack google-chrome-stable_current_amd64.deb ...\n",
            "Unpacking google-chrome-stable (120.0.6099.129-1) over (120.0.6099.129-1) ...\n",
            "\u001b[1mdpkg:\u001b[0m dependency problems prevent configuration of google-chrome-stable:\n",
            " google-chrome-stable depends on libvulkan1; however:\n",
            "  Package libvulkan1 is not installed.\n",
            "\n",
            "\u001b[1mdpkg:\u001b[0m error processing package google-chrome-stable (--install):\n",
            " dependency problems - leaving unconfigured\n",
            "Processing triggers for man-db (2.10.2-1) ...\n",
            "Errors were encountered while processing:\n",
            " google-chrome-stable\n",
            "--2023-12-21 15:46:11--  https://chromedriver.storage.googleapis.com/114.0.5735.90/chromedriver_linux64.zip\n",
            "Resolving chromedriver.storage.googleapis.com (chromedriver.storage.googleapis.com)... 74.125.137.207, 142.250.101.207, 142.251.2.207, ...\n",
            "Connecting to chromedriver.storage.googleapis.com (chromedriver.storage.googleapis.com)|74.125.137.207|:443... connected.\n",
            "HTTP request sent, awaiting response... 304 Not Modified\n",
            "File ‘/tmp/chromedriver_linux64.zip’ not modified on server. Omitting download.\n",
            "\n",
            "Archive:  /tmp/chromedriver_linux64.zip\n",
            "  inflating: /tmp/chromedriver       \n",
            "  inflating: /tmp/LICENSE.chromedriver  \n",
            "Requirement already satisfied: selenium in /usr/local/lib/python3.10/dist-packages (4.16.0)\n",
            "Requirement already satisfied: urllib3[socks]<3,>=1.26 in /usr/local/lib/python3.10/dist-packages (from selenium) (2.0.7)\n",
            "Requirement already satisfied: trio~=0.17 in /usr/local/lib/python3.10/dist-packages (from selenium) (0.23.2)\n",
            "Requirement already satisfied: trio-websocket~=0.9 in /usr/local/lib/python3.10/dist-packages (from selenium) (0.11.1)\n",
            "Requirement already satisfied: certifi>=2021.10.8 in /usr/local/lib/python3.10/dist-packages (from selenium) (2023.11.17)\n",
            "Requirement already satisfied: attrs>=20.1.0 in /usr/local/lib/python3.10/dist-packages (from trio~=0.17->selenium) (23.1.0)\n",
            "Requirement already satisfied: sortedcontainers in /usr/local/lib/python3.10/dist-packages (from trio~=0.17->selenium) (2.4.0)\n",
            "Requirement already satisfied: idna in /usr/local/lib/python3.10/dist-packages (from trio~=0.17->selenium) (3.6)\n",
            "Requirement already satisfied: outcome in /usr/local/lib/python3.10/dist-packages (from trio~=0.17->selenium) (1.3.0.post0)\n",
            "Requirement already satisfied: sniffio>=1.3.0 in /usr/local/lib/python3.10/dist-packages (from trio~=0.17->selenium) (1.3.0)\n",
            "Requirement already satisfied: exceptiongroup in /usr/local/lib/python3.10/dist-packages (from trio~=0.17->selenium) (1.2.0)\n",
            "Requirement already satisfied: wsproto>=0.14 in /usr/local/lib/python3.10/dist-packages (from trio-websocket~=0.9->selenium) (1.2.0)\n",
            "Requirement already satisfied: pysocks!=1.5.7,<2.0,>=1.5.6 in /usr/local/lib/python3.10/dist-packages (from urllib3[socks]<3,>=1.26->selenium) (1.7.1)\n",
            "Requirement already satisfied: h11<1,>=0.9.0 in /usr/local/lib/python3.10/dist-packages (from wsproto>=0.14->trio-websocket~=0.9->selenium) (0.14.0)\n"
          ]
        },
        {
          "output_type": "execute_result",
          "data": {
            "text/plain": []
          },
          "metadata": {},
          "execution_count": 119
        }
      ],
      "source": [
        "# Set up for running selenium in Google Colab\n",
        "## You don't need to run this code if you do it in Jupyter notebook, or other local Python setting\n",
        "%%shell\n",
        "sudo apt -y update\n",
        "sudo apt install -y wget curl unzip\n",
        "wget http://archive.ubuntu.com/ubuntu/pool/main/libu/libu2f-host/libu2f-udev_1.1.4-1_all.deb\n",
        "dpkg -i libu2f-udev_1.1.4-1_all.deb\n",
        "wget https://dl.google.com/linux/direct/google-chrome-stable_current_amd64.deb\n",
        "dpkg -i google-chrome-stable_current_amd64.deb\n",
        "CHROME_DRIVER_VERSION=`curl -sS chromedriver.storage.googleapis.com/LATEST_RELEASE`\n",
        "wget -N https://chromedriver.storage.googleapis.com/$CHROME_DRIVER_VERSION/chromedriver_linux64.zip -P /tmp/\n",
        "unzip -o /tmp/chromedriver_linux64.zip -d /tmp/\n",
        "chmod +x /tmp/chromedriver\n",
        "mv /tmp/chromedriver /usr/local/bin/chromedriver\n",
        "pip install selenium"
      ]
    },
    {
      "cell_type": "markdown",
      "source": [
        "Install chromedriver-autoinstaller\n"
      ],
      "metadata": {
        "id": "Stvb7aDS1VXf"
      }
    },
    {
      "cell_type": "code",
      "source": [
        "!pip install chromedriver-autoinstaller"
      ],
      "metadata": {
        "colab": {
          "base_uri": "https://localhost:8080/"
        },
        "id": "HJqt0adTuOYY",
        "outputId": "e83a3791-c205-4c8b-a493-7f0c7297a61d"
      },
      "execution_count": 120,
      "outputs": [
        {
          "output_type": "stream",
          "name": "stdout",
          "text": [
            "Requirement already satisfied: chromedriver-autoinstaller in /usr/local/lib/python3.10/dist-packages (0.6.3)\n",
            "Requirement already satisfied: packaging>=23.1 in /usr/local/lib/python3.10/dist-packages (from chromedriver-autoinstaller) (23.2)\n"
          ]
        }
      ]
    },
    {
      "cell_type": "markdown",
      "source": [
        "Set up Selenium WebDriver with Chromedriver Auto-installation"
      ],
      "metadata": {
        "id": "vCfMGxXR1mHl"
      }
    },
    {
      "cell_type": "code",
      "source": [
        "# Import necessary modules from Selenium\n",
        "from selenium import webdriver\n",
        "import chromedriver_autoinstaller\n",
        "\n",
        "# Configure Chrome options\n",
        "chrome_options = webdriver.ChromeOptions()\n",
        "chrome_options.add_argument('--headless')  # Ensure GUI is off\n",
        "chrome_options.add_argument('--no-sandbox')\n",
        "chrome_options.add_argument('--disable-dev-shm-usage')\n",
        "chrome_options.add_argument('--disable-blink-features=AutomationControlled')\n",
        "chrome_options.add_experimental_option('excludeSwitches', ['enable-logging'])\n",
        "\n",
        "# Use chromedriver_autoinstaller to install the latest version of ChromeDriver\n",
        "chromedriver_autoinstaller.install()\n",
        "\n",
        "# Set up the WebDriver with configured options\n",
        "driver = webdriver.Chrome(options=chrome_options)\n"
      ],
      "metadata": {
        "id": "JaO5oeTnKIwe"
      },
      "execution_count": 188,
      "outputs": []
    },
    {
      "cell_type": "markdown",
      "source": [
        "Import Necessary Libraries\n"
      ],
      "metadata": {
        "id": "V7DaVfW31sKH"
      }
    },
    {
      "cell_type": "code",
      "source": [
        "# Import necessary modules from Selenium\n",
        "from selenium.webdriver.common.by import By\n",
        "from selenium.webdriver.support.ui import WebDriverWait\n",
        "from selenium.webdriver.support import expected_conditions as EC\n",
        "\n",
        "# Import BeautifulSoup for HTML parsing\n",
        "from bs4 import BeautifulSoup\n",
        "\n",
        "# Import time for adding delays\n",
        "import time\n",
        "\n",
        "# Import csv for handling CSV files\n",
        "import csv\n"
      ],
      "metadata": {
        "id": "Yj-d45wH1rlR"
      },
      "execution_count": 190,
      "outputs": []
    },
    {
      "cell_type": "markdown",
      "source": [
        "Scrape Main Page Function: Extracting Links from table"
      ],
      "metadata": {
        "id": "7S16nClA2AtU"
      }
    },
    {
      "cell_type": "code",
      "source": [
        "def scrape_main_page(main_url, driver):\n",
        "    # Make an HTTP request to the main page\n",
        "    base_url = 'https://global-standard.org'\n",
        "    driver.get(main_url)\n",
        "\n",
        "    # Click the search results button to load the data\n",
        "    button = driver.find_element(By.XPATH, '//*[@id=\"xFormForm-0-submit\"]')\n",
        "    driver.execute_script(\"arguments[0].click();\", button)\n",
        "    time.sleep(5)  # Wait for the page to load\n",
        "\n",
        "    # Click the pagination link to show more results\n",
        "    pagination = driver.find_element(By.XPATH, '//a[@limit=\"50\" and contains(@class, \"xforms-limiter-limit\")]')\n",
        "    driver.execute_script(\"arguments[0].click();\", pagination)\n",
        "    time.sleep(5)  # Wait for the page to load\n",
        "\n",
        "    # Wait for the table to load on the next page\n",
        "    table = driver.find_element(By.XPATH, '//*[@id=\"tr-xFormAjaxTable-0\"]/table')\n",
        "    time.sleep(5)  # Wait for the table to load\n",
        "\n",
        "    # Parse the HTML content with BeautifulSoup\n",
        "    soup = BeautifulSoup(driver.page_source, 'html.parser')\n",
        "\n",
        "    data = []  # List to store extracted links\n",
        "    count = 0  # Counter to limit the number of iterations\n",
        "    while count < 1000:\n",
        "        # Corrected the attribute format in the find function\n",
        "        table_body = table.find_element(By.TAG_NAME, 'tbody')\n",
        "        rows = table_body.find_elements(By.TAG_NAME, 'tr')\n",
        "\n",
        "        for row in rows:\n",
        "            columns = row.find_elements(By.TAG_NAME, 'td')\n",
        "            if len(columns) >= 5:  # Check if the fifth column exists\n",
        "                link = columns[4].find_element(By.TAG_NAME, 'a').get_attribute('href')\n",
        "                data.append(link)\n",
        "\n",
        "            count += 1\n",
        "\n",
        "        # Click the next page button\n",
        "        next_button = driver.find_element(By.XPATH, '//a[@class=\"xforms-pager-next\" and @aria-label=\"Next page\"]')\n",
        "        driver.execute_script(\"arguments[0].click();\", next_button)\n",
        "        time.sleep(5)  # Wait for the page to load\n",
        "\n",
        "    return data"
      ],
      "metadata": {
        "id": "AcCrZ_J7J06k"
      },
      "execution_count": 192,
      "outputs": []
    },
    {
      "cell_type": "markdown",
      "source": [
        "Scrape Company Details Function: Extracting Information from a Company Details Page\n"
      ],
      "metadata": {
        "id": "4GnW__1G2bu3"
      }
    },
    {
      "cell_type": "code",
      "source": [
        "def scrape_company_details(company_url, driver):\n",
        "    # Make an HTTP request to the company details page\n",
        "    driver.get(company_url)\n",
        "     # Add a delay to ensure the page is fully loaded\n",
        "    time.sleep(2)\n",
        "    # Base URL to create pdf links\n",
        "    base_url = 'https://global-standard.org'\n",
        "    # Parse the HTML content with BeautifulSoup\n",
        "    soup = BeautifulSoup(driver.page_source, 'html.parser')\n",
        "\n",
        "    # Extract details from the company page\n",
        "    company_name = soup.select_one('#done h1')\n",
        "    brand_name = soup.select_one('td#xFormTd-16 span.xforms-text')\n",
        "    country = soup.select_one('td#xFormTd-0 span.xforms-text')\n",
        "    product_category = soup.select_one('td#xFormTd-3 span.xforms-text')\n",
        "    contact_name_spans = soup.select('td#xFormTd-4 span.xforms-text')\n",
        "    contact_name = ' '.join([span.text.strip() for span in contact_name_spans])\n",
        "    email_address = soup.select_one('td#xFormTd-7 span#xFormText-19 a[href]')\n",
        "    ####details about adress\n",
        "    adress = soup.select_one('#xFormTd-8 span.xforms-text')\n",
        "    address_parts = ' '.join([span.text.strip() if span else '' for span in [adress]])\n",
        "    adress2 = soup.select_one('#xFormTd-9 span.xforms-text')\n",
        "    address_parts += ' ' + ' '.join([span.text.strip() if span else '' for span in [adress2]])\n",
        "    Street = soup.select_one('#xFormTd-10 span.xforms-text')\n",
        "    address_parts += ' ' + ' '.join([span.text.strip() if span else '' for span in [Street]])\n",
        "    PostCode_City = soup.select('td#xFormTd-11 span.xforms-text')\n",
        "    address_parts += ' ' + ' '.join([span.text.strip() if span else '' for span in PostCode_City])\n",
        "    ####\n",
        "    license_number = soup.select_one('td#xFormTd-15 span.xforms-text ')\n",
        "    pdf_link = soup.select_one('td#xFormTd-19 a#xFormA-2[href]')\n",
        "    certification_body = soup.select_one('td#xFormTd-18 span.xforms-text')\n",
        "    expiry_date = soup.select_one('td#xFormTd-20 span.xforms-text')\n",
        "    product_details = soup.select_one('td#xFormTd-17 span.xforms-text')\n",
        "\n",
        "    return {\n",
        "        'company': company_name.text if company_name else '',\n",
        "        'brand_name': brand_name.text if brand_name else '',\n",
        "        'country': country.text if country else '',\n",
        "        'product_category': product_category.text if product_category else '',\n",
        "        'contact_name': contact_name if contact_name else '',\n",
        "        'email_address': email_address.text if email_address else '',\n",
        "        'address_parts': address_parts if address_parts else '',\n",
        "        'license_number': license_number.text if license_number else '',\n",
        "        'pdf': base_url + pdf_link['href'] if pdf_link else '',\n",
        "        'certification_body': certification_body.text if certification_body else '',\n",
        "        'expiry_date': expiry_date.text if expiry_date else '',\n",
        "        'product_details': product_details.text if product_details else ''\n",
        "    }\n"
      ],
      "metadata": {
        "id": "9Qrpw43ZKtZj"
      },
      "execution_count": 193,
      "outputs": []
    },
    {
      "cell_type": "markdown",
      "source": [
        "Save Data to a CSV File\n"
      ],
      "metadata": {
        "id": "McD8HSLj2pG4"
      }
    },
    {
      "cell_type": "code",
      "source": [
        "# Function to save data to a CSV file\n",
        "def save_to_csv(data):\n",
        "    # Define the CSV file name\n",
        "    # file_name = 'scraped_data.csv'\n",
        "    file_name = 'data.csv'\n",
        "\n",
        "    # Get the keys (column names) from the data\n",
        "    headers = data.keys()\n",
        "\n",
        "    # Open the CSV file in append mode, create a new file if it doesn't exist\n",
        "    with open(file_name, 'a', newline='', encoding='utf-8') as csvfile:\n",
        "        # Create a CSV writer with specified fieldnames\n",
        "        writer = csv.DictWriter(csvfile, fieldnames=headers)\n",
        "\n",
        "        # Check if the file is empty; if yes, write the headers\n",
        "        if csvfile.tell() == 0:\n",
        "            writer.writeheader()\n",
        "\n",
        "        # Write the data to the CSV file\n",
        "        writer.writerow(data)"
      ],
      "metadata": {
        "id": "kPSSx0PsKxxT"
      },
      "execution_count": 195,
      "outputs": []
    },
    {
      "cell_type": "code",
      "source": [
        "# Define the main URL for scraping\n",
        "main_url = 'https://global-standard.org/find-suppliers-shops-and-inputs/certified-suppliers/database/search#howto'\n",
        "\n",
        "# Scrape the main page to obtain a list of links\n",
        "Data = scrape_main_page(main_url, driver)\n",
        "\n",
        "# Loop through each link and scrape company details\n",
        "for link in Data:\n",
        "    # Scrape details for the current link\n",
        "    scraped_data = scrape_company_details(link, driver)\n",
        "\n",
        "    # Save the scraped data to a CSV file\n",
        "    save_to_csv(scraped_data)\n",
        "\n",
        "# Quit the WebDriver session after scraping is complete\n",
        "driver.quit()\n",
        "\n",
        "# Print a message indicating the successful completion of the data scraping process\n",
        "print(\"Data scraping process completed successfully.\")"
      ],
      "metadata": {
        "colab": {
          "base_uri": "https://localhost:8080/"
        },
        "id": "SPZ3rxc_LaNK",
        "outputId": "1f557bef-ddcf-4e2c-bc81-b029c4ed6998"
      },
      "execution_count": 196,
      "outputs": [
        {
          "output_type": "stream",
          "name": "stdout",
          "text": [
            "Data scraping process completed successfully.\n"
          ]
        }
      ]
    },
    {
      "cell_type": "markdown",
      "source": [
        "# Analysis Part"
      ],
      "metadata": {
        "id": "Xq81Ad67H58K"
      }
    },
    {
      "cell_type": "markdown",
      "source": [
        "Read and Display Scraped Data"
      ],
      "metadata": {
        "id": "H5kBcfv33vY_"
      }
    },
    {
      "cell_type": "code",
      "source": [
        "import pandas as pd\n",
        "\n",
        "# Read the CSV file into a DataFrame\n",
        "df = pd.read_csv('scrapedData.csv')\n",
        "# Display the DataFrame\n",
        "df.info()\n"
      ],
      "metadata": {
        "colab": {
          "base_uri": "https://localhost:8080/"
        },
        "id": "IC9Hsc3jH5M0",
        "outputId": "f3732062-9f75-4c34-bed2-c7db1c805ea0"
      },
      "execution_count": 175,
      "outputs": [
        {
          "output_type": "stream",
          "name": "stdout",
          "text": [
            "<class 'pandas.core.frame.DataFrame'>\n",
            "RangeIndex: 1000 entries, 0 to 999\n",
            "Data columns (total 12 columns):\n",
            " #   Column              Non-Null Count  Dtype \n",
            "---  ------              --------------  ----- \n",
            " 0   company             999 non-null    object\n",
            " 1   brand_name          6 non-null      object\n",
            " 2   country             999 non-null    object\n",
            " 3   product_category    996 non-null    object\n",
            " 4   contact_name        396 non-null    object\n",
            " 5   email_address       444 non-null    object\n",
            " 6   address_parts       1000 non-null   object\n",
            " 7   license_number      999 non-null    object\n",
            " 8   pdf                 196 non-null    object\n",
            " 9   certification_body  999 non-null    object\n",
            " 10  expiry_date         999 non-null    object\n",
            " 11  product_details     906 non-null    object\n",
            "dtypes: object(12)\n",
            "memory usage: 93.9+ KB\n"
          ]
        }
      ]
    },
    {
      "cell_type": "markdown",
      "source": [
        "Displaying the First Few Rows of the DataFrame\n",
        "\n",
        "\n"
      ],
      "metadata": {
        "id": "5NKBpecz32Td"
      }
    },
    {
      "cell_type": "code",
      "source": [
        "df.head()"
      ],
      "metadata": {
        "colab": {
          "base_uri": "https://localhost:8080/",
          "height": 469
        },
        "id": "W7YVFvzFIpbc",
        "outputId": "d048be83-1873-43c1-9296-2ebe98681bc3"
      },
      "execution_count": 176,
      "outputs": [
        {
          "output_type": "execute_result",
          "data": {
            "text/plain": [
              "                               company brand_name                     country  \\\n",
              "0                       ''P-AQRO'' MMC        NaN             Azerbaijan (AZ)   \n",
              "1  \"\"MOHINI HEALTH & HYGIENE LIMITED\"\"        NaN  India (IN), Madhya Pradesh   \n",
              "2       \"BСT Cluster Agrokompleks\" LLC        NaN             Uzbekistan (UZ)   \n",
              "3                      \"TEOFILÓW\" S.A.        NaN                 Poland (PL)   \n",
              "4                  “Istiqlol-2010” Ltd        NaN             Tajikistan (TJ)   \n",
              "\n",
              "                             product_category      contact_name  \\\n",
              "0                                  Raw Fibres     Nazli Alancay   \n",
              "1  Hygiene products, Product category (other)  Sheheryar Dhatta   \n",
              "2                                  Raw Fibres      Inoyat Nurov   \n",
              "3                                     Fabrics               NaN   \n",
              "4                                  Raw Fibres               NaN   \n",
              "\n",
              "                email_address  \\\n",
              "0  certification@docotton.com   \n",
              "1  sheheryar@mohinifibers.com   \n",
              "2             bctagro@mail.ru   \n",
              "3      office@teofilow.com.pl   \n",
              "4         jamshed@farnico.com   \n",
              "\n",
              "                                       address_parts license_number  \\\n",
              "0                  SHIKHALIEV STREET 14 NARIMANOV        CU 1206162   \n",
              "1  PITHAMPUR 454774 Madhya Pradesh INDIA  Plot No...       00279945   \n",
              "2       43, Amir Timur Street 201000 Romitan city        CU 1240944   \n",
              "3                    ul. Szparagowa 6/8 91-211, Łódź        1127384   \n",
              "4  Polygon site, Khaeti Nav village council, Yava...        1213560   \n",
              "\n",
              "                                                 pdf  \\\n",
              "0  https://global-standard.org/find-suppliers-sho...   \n",
              "1  https://global-standard.org/find-suppliers-sho...   \n",
              "2  https://global-standard.org/find-suppliers-sho...   \n",
              "3                                                NaN   \n",
              "4                                                NaN   \n",
              "\n",
              "             certification_body expiry_date  \\\n",
              "0  Control Union Certifications  2024-03-17   \n",
              "1             Ecocert Greenlife  2024-06-16   \n",
              "2  Control Union Certifications  2024-05-03   \n",
              "3  Control Union Certifications  2024-01-16   \n",
              "4  Control Union Certifications  2024-01-18   \n",
              "\n",
              "                                     product_details  \n",
              "0                                             Fibres  \n",
              "1  Personal care hygiene (PC0013)Undyed fibers (P...  \n",
              "2                                             Fibres  \n",
              "3  Dyed fabrics (PC0025) Knitted fabrics (PD0058)...  \n",
              "4  Undyed fibers (PC0034) Lint cotton (PD0074) 10...  "
            ],
            "text/html": [
              "\n",
              "  <div id=\"df-acb391df-8223-4c06-988b-212c1f762408\" class=\"colab-df-container\">\n",
              "    <div>\n",
              "<style scoped>\n",
              "    .dataframe tbody tr th:only-of-type {\n",
              "        vertical-align: middle;\n",
              "    }\n",
              "\n",
              "    .dataframe tbody tr th {\n",
              "        vertical-align: top;\n",
              "    }\n",
              "\n",
              "    .dataframe thead th {\n",
              "        text-align: right;\n",
              "    }\n",
              "</style>\n",
              "<table border=\"1\" class=\"dataframe\">\n",
              "  <thead>\n",
              "    <tr style=\"text-align: right;\">\n",
              "      <th></th>\n",
              "      <th>company</th>\n",
              "      <th>brand_name</th>\n",
              "      <th>country</th>\n",
              "      <th>product_category</th>\n",
              "      <th>contact_name</th>\n",
              "      <th>email_address</th>\n",
              "      <th>address_parts</th>\n",
              "      <th>license_number</th>\n",
              "      <th>pdf</th>\n",
              "      <th>certification_body</th>\n",
              "      <th>expiry_date</th>\n",
              "      <th>product_details</th>\n",
              "    </tr>\n",
              "  </thead>\n",
              "  <tbody>\n",
              "    <tr>\n",
              "      <th>0</th>\n",
              "      <td>''P-AQRO'' MMC</td>\n",
              "      <td>NaN</td>\n",
              "      <td>Azerbaijan (AZ)</td>\n",
              "      <td>Raw Fibres</td>\n",
              "      <td>Nazli Alancay</td>\n",
              "      <td>certification@docotton.com</td>\n",
              "      <td>SHIKHALIEV STREET 14 NARIMANOV</td>\n",
              "      <td>CU 1206162</td>\n",
              "      <td>https://global-standard.org/find-suppliers-sho...</td>\n",
              "      <td>Control Union Certifications</td>\n",
              "      <td>2024-03-17</td>\n",
              "      <td>Fibres</td>\n",
              "    </tr>\n",
              "    <tr>\n",
              "      <th>1</th>\n",
              "      <td>\"\"MOHINI HEALTH &amp; HYGIENE LIMITED\"\"</td>\n",
              "      <td>NaN</td>\n",
              "      <td>India (IN), Madhya Pradesh</td>\n",
              "      <td>Hygiene products, Product category (other)</td>\n",
              "      <td>Sheheryar Dhatta</td>\n",
              "      <td>sheheryar@mohinifibers.com</td>\n",
              "      <td>PITHAMPUR 454774 Madhya Pradesh INDIA  Plot No...</td>\n",
              "      <td>00279945</td>\n",
              "      <td>https://global-standard.org/find-suppliers-sho...</td>\n",
              "      <td>Ecocert Greenlife</td>\n",
              "      <td>2024-06-16</td>\n",
              "      <td>Personal care hygiene (PC0013)Undyed fibers (P...</td>\n",
              "    </tr>\n",
              "    <tr>\n",
              "      <th>2</th>\n",
              "      <td>\"BСT Cluster Agrokompleks\" LLC</td>\n",
              "      <td>NaN</td>\n",
              "      <td>Uzbekistan (UZ)</td>\n",
              "      <td>Raw Fibres</td>\n",
              "      <td>Inoyat Nurov</td>\n",
              "      <td>bctagro@mail.ru</td>\n",
              "      <td>43, Amir Timur Street 201000 Romitan city</td>\n",
              "      <td>CU 1240944</td>\n",
              "      <td>https://global-standard.org/find-suppliers-sho...</td>\n",
              "      <td>Control Union Certifications</td>\n",
              "      <td>2024-05-03</td>\n",
              "      <td>Fibres</td>\n",
              "    </tr>\n",
              "    <tr>\n",
              "      <th>3</th>\n",
              "      <td>\"TEOFILÓW\" S.A.</td>\n",
              "      <td>NaN</td>\n",
              "      <td>Poland (PL)</td>\n",
              "      <td>Fabrics</td>\n",
              "      <td>NaN</td>\n",
              "      <td>office@teofilow.com.pl</td>\n",
              "      <td>ul. Szparagowa 6/8 91-211, Łódź</td>\n",
              "      <td>1127384</td>\n",
              "      <td>NaN</td>\n",
              "      <td>Control Union Certifications</td>\n",
              "      <td>2024-01-16</td>\n",
              "      <td>Dyed fabrics (PC0025) Knitted fabrics (PD0058)...</td>\n",
              "    </tr>\n",
              "    <tr>\n",
              "      <th>4</th>\n",
              "      <td>“Istiqlol-2010” Ltd</td>\n",
              "      <td>NaN</td>\n",
              "      <td>Tajikistan (TJ)</td>\n",
              "      <td>Raw Fibres</td>\n",
              "      <td>NaN</td>\n",
              "      <td>jamshed@farnico.com</td>\n",
              "      <td>Polygon site, Khaeti Nav village council, Yava...</td>\n",
              "      <td>1213560</td>\n",
              "      <td>NaN</td>\n",
              "      <td>Control Union Certifications</td>\n",
              "      <td>2024-01-18</td>\n",
              "      <td>Undyed fibers (PC0034) Lint cotton (PD0074) 10...</td>\n",
              "    </tr>\n",
              "  </tbody>\n",
              "</table>\n",
              "</div>\n",
              "    <div class=\"colab-df-buttons\">\n",
              "\n",
              "  <div class=\"colab-df-container\">\n",
              "    <button class=\"colab-df-convert\" onclick=\"convertToInteractive('df-acb391df-8223-4c06-988b-212c1f762408')\"\n",
              "            title=\"Convert this dataframe to an interactive table.\"\n",
              "            style=\"display:none;\">\n",
              "\n",
              "  <svg xmlns=\"http://www.w3.org/2000/svg\" height=\"24px\" viewBox=\"0 -960 960 960\">\n",
              "    <path d=\"M120-120v-720h720v720H120Zm60-500h600v-160H180v160Zm220 220h160v-160H400v160Zm0 220h160v-160H400v160ZM180-400h160v-160H180v160Zm440 0h160v-160H620v160ZM180-180h160v-160H180v160Zm440 0h160v-160H620v160Z\"/>\n",
              "  </svg>\n",
              "    </button>\n",
              "\n",
              "  <style>\n",
              "    .colab-df-container {\n",
              "      display:flex;\n",
              "      gap: 12px;\n",
              "    }\n",
              "\n",
              "    .colab-df-convert {\n",
              "      background-color: #E8F0FE;\n",
              "      border: none;\n",
              "      border-radius: 50%;\n",
              "      cursor: pointer;\n",
              "      display: none;\n",
              "      fill: #1967D2;\n",
              "      height: 32px;\n",
              "      padding: 0 0 0 0;\n",
              "      width: 32px;\n",
              "    }\n",
              "\n",
              "    .colab-df-convert:hover {\n",
              "      background-color: #E2EBFA;\n",
              "      box-shadow: 0px 1px 2px rgba(60, 64, 67, 0.3), 0px 1px 3px 1px rgba(60, 64, 67, 0.15);\n",
              "      fill: #174EA6;\n",
              "    }\n",
              "\n",
              "    .colab-df-buttons div {\n",
              "      margin-bottom: 4px;\n",
              "    }\n",
              "\n",
              "    [theme=dark] .colab-df-convert {\n",
              "      background-color: #3B4455;\n",
              "      fill: #D2E3FC;\n",
              "    }\n",
              "\n",
              "    [theme=dark] .colab-df-convert:hover {\n",
              "      background-color: #434B5C;\n",
              "      box-shadow: 0px 1px 3px 1px rgba(0, 0, 0, 0.15);\n",
              "      filter: drop-shadow(0px 1px 2px rgba(0, 0, 0, 0.3));\n",
              "      fill: #FFFFFF;\n",
              "    }\n",
              "  </style>\n",
              "\n",
              "    <script>\n",
              "      const buttonEl =\n",
              "        document.querySelector('#df-acb391df-8223-4c06-988b-212c1f762408 button.colab-df-convert');\n",
              "      buttonEl.style.display =\n",
              "        google.colab.kernel.accessAllowed ? 'block' : 'none';\n",
              "\n",
              "      async function convertToInteractive(key) {\n",
              "        const element = document.querySelector('#df-acb391df-8223-4c06-988b-212c1f762408');\n",
              "        const dataTable =\n",
              "          await google.colab.kernel.invokeFunction('convertToInteractive',\n",
              "                                                    [key], {});\n",
              "        if (!dataTable) return;\n",
              "\n",
              "        const docLinkHtml = 'Like what you see? Visit the ' +\n",
              "          '<a target=\"_blank\" href=https://colab.research.google.com/notebooks/data_table.ipynb>data table notebook</a>'\n",
              "          + ' to learn more about interactive tables.';\n",
              "        element.innerHTML = '';\n",
              "        dataTable['output_type'] = 'display_data';\n",
              "        await google.colab.output.renderOutput(dataTable, element);\n",
              "        const docLink = document.createElement('div');\n",
              "        docLink.innerHTML = docLinkHtml;\n",
              "        element.appendChild(docLink);\n",
              "      }\n",
              "    </script>\n",
              "  </div>\n",
              "\n",
              "\n",
              "<div id=\"df-429e5000-7b85-448d-8d11-baa92c16ec12\">\n",
              "  <button class=\"colab-df-quickchart\" onclick=\"quickchart('df-429e5000-7b85-448d-8d11-baa92c16ec12')\"\n",
              "            title=\"Suggest charts\"\n",
              "            style=\"display:none;\">\n",
              "\n",
              "<svg xmlns=\"http://www.w3.org/2000/svg\" height=\"24px\"viewBox=\"0 0 24 24\"\n",
              "     width=\"24px\">\n",
              "    <g>\n",
              "        <path d=\"M19 3H5c-1.1 0-2 .9-2 2v14c0 1.1.9 2 2 2h14c1.1 0 2-.9 2-2V5c0-1.1-.9-2-2-2zM9 17H7v-7h2v7zm4 0h-2V7h2v10zm4 0h-2v-4h2v4z\"/>\n",
              "    </g>\n",
              "</svg>\n",
              "  </button>\n",
              "\n",
              "<style>\n",
              "  .colab-df-quickchart {\n",
              "      --bg-color: #E8F0FE;\n",
              "      --fill-color: #1967D2;\n",
              "      --hover-bg-color: #E2EBFA;\n",
              "      --hover-fill-color: #174EA6;\n",
              "      --disabled-fill-color: #AAA;\n",
              "      --disabled-bg-color: #DDD;\n",
              "  }\n",
              "\n",
              "  [theme=dark] .colab-df-quickchart {\n",
              "      --bg-color: #3B4455;\n",
              "      --fill-color: #D2E3FC;\n",
              "      --hover-bg-color: #434B5C;\n",
              "      --hover-fill-color: #FFFFFF;\n",
              "      --disabled-bg-color: #3B4455;\n",
              "      --disabled-fill-color: #666;\n",
              "  }\n",
              "\n",
              "  .colab-df-quickchart {\n",
              "    background-color: var(--bg-color);\n",
              "    border: none;\n",
              "    border-radius: 50%;\n",
              "    cursor: pointer;\n",
              "    display: none;\n",
              "    fill: var(--fill-color);\n",
              "    height: 32px;\n",
              "    padding: 0;\n",
              "    width: 32px;\n",
              "  }\n",
              "\n",
              "  .colab-df-quickchart:hover {\n",
              "    background-color: var(--hover-bg-color);\n",
              "    box-shadow: 0 1px 2px rgba(60, 64, 67, 0.3), 0 1px 3px 1px rgba(60, 64, 67, 0.15);\n",
              "    fill: var(--button-hover-fill-color);\n",
              "  }\n",
              "\n",
              "  .colab-df-quickchart-complete:disabled,\n",
              "  .colab-df-quickchart-complete:disabled:hover {\n",
              "    background-color: var(--disabled-bg-color);\n",
              "    fill: var(--disabled-fill-color);\n",
              "    box-shadow: none;\n",
              "  }\n",
              "\n",
              "  .colab-df-spinner {\n",
              "    border: 2px solid var(--fill-color);\n",
              "    border-color: transparent;\n",
              "    border-bottom-color: var(--fill-color);\n",
              "    animation:\n",
              "      spin 1s steps(1) infinite;\n",
              "  }\n",
              "\n",
              "  @keyframes spin {\n",
              "    0% {\n",
              "      border-color: transparent;\n",
              "      border-bottom-color: var(--fill-color);\n",
              "      border-left-color: var(--fill-color);\n",
              "    }\n",
              "    20% {\n",
              "      border-color: transparent;\n",
              "      border-left-color: var(--fill-color);\n",
              "      border-top-color: var(--fill-color);\n",
              "    }\n",
              "    30% {\n",
              "      border-color: transparent;\n",
              "      border-left-color: var(--fill-color);\n",
              "      border-top-color: var(--fill-color);\n",
              "      border-right-color: var(--fill-color);\n",
              "    }\n",
              "    40% {\n",
              "      border-color: transparent;\n",
              "      border-right-color: var(--fill-color);\n",
              "      border-top-color: var(--fill-color);\n",
              "    }\n",
              "    60% {\n",
              "      border-color: transparent;\n",
              "      border-right-color: var(--fill-color);\n",
              "    }\n",
              "    80% {\n",
              "      border-color: transparent;\n",
              "      border-right-color: var(--fill-color);\n",
              "      border-bottom-color: var(--fill-color);\n",
              "    }\n",
              "    90% {\n",
              "      border-color: transparent;\n",
              "      border-bottom-color: var(--fill-color);\n",
              "    }\n",
              "  }\n",
              "</style>\n",
              "\n",
              "  <script>\n",
              "    async function quickchart(key) {\n",
              "      const quickchartButtonEl =\n",
              "        document.querySelector('#' + key + ' button');\n",
              "      quickchartButtonEl.disabled = true;  // To prevent multiple clicks.\n",
              "      quickchartButtonEl.classList.add('colab-df-spinner');\n",
              "      try {\n",
              "        const charts = await google.colab.kernel.invokeFunction(\n",
              "            'suggestCharts', [key], {});\n",
              "      } catch (error) {\n",
              "        console.error('Error during call to suggestCharts:', error);\n",
              "      }\n",
              "      quickchartButtonEl.classList.remove('colab-df-spinner');\n",
              "      quickchartButtonEl.classList.add('colab-df-quickchart-complete');\n",
              "    }\n",
              "    (() => {\n",
              "      let quickchartButtonEl =\n",
              "        document.querySelector('#df-429e5000-7b85-448d-8d11-baa92c16ec12 button');\n",
              "      quickchartButtonEl.style.display =\n",
              "        google.colab.kernel.accessAllowed ? 'block' : 'none';\n",
              "    })();\n",
              "  </script>\n",
              "</div>\n",
              "\n",
              "    </div>\n",
              "  </div>\n"
            ]
          },
          "metadata": {},
          "execution_count": 176
        }
      ]
    },
    {
      "cell_type": "markdown",
      "source": [
        "## Data cleaning and preparation"
      ],
      "metadata": {
        "id": "o3YBY1yK6jjG"
      }
    },
    {
      "cell_type": "markdown",
      "source": [
        "Convert 'expiry_date' Column to Datetime Format"
      ],
      "metadata": {
        "id": "fyBGEzE05Etg"
      }
    },
    {
      "cell_type": "code",
      "source": [
        "df['expiry_date'] = pd.to_datetime(df['expiry_date'])"
      ],
      "metadata": {
        "id": "nvQ6_OaJvCzR"
      },
      "execution_count": 177,
      "outputs": []
    },
    {
      "cell_type": "markdown",
      "source": [
        "Check Missing Values in DataFrame Columns"
      ],
      "metadata": {
        "id": "BqUtcVdI5Oa8"
      }
    },
    {
      "cell_type": "code",
      "source": [
        "df.isna().sum()"
      ],
      "metadata": {
        "colab": {
          "base_uri": "https://localhost:8080/"
        },
        "id": "h3lDB4wjbF1D",
        "outputId": "3e8226d4-1aec-4d91-ecfe-7eb5305910bf"
      },
      "execution_count": 178,
      "outputs": [
        {
          "output_type": "execute_result",
          "data": {
            "text/plain": [
              "company                 1\n",
              "brand_name            994\n",
              "country                 1\n",
              "product_category        4\n",
              "contact_name          604\n",
              "email_address         556\n",
              "address_parts           0\n",
              "license_number          1\n",
              "pdf                   804\n",
              "certification_body      1\n",
              "expiry_date             1\n",
              "product_details        94\n",
              "dtype: int64"
            ]
          },
          "metadata": {},
          "execution_count": 178
        }
      ]
    },
    {
      "cell_type": "markdown",
      "source": [
        "Filter Rows with Missing Values in the 'company' Column\n"
      ],
      "metadata": {
        "id": "jwmIUpmq5TTi"
      }
    },
    {
      "cell_type": "code",
      "source": [
        "df[df['company'].isnull()]"
      ],
      "metadata": {
        "colab": {
          "base_uri": "https://localhost:8080/",
          "height": 101
        },
        "id": "dL-LEXYIeq2H",
        "outputId": "3a37f1b2-6181-4091-faad-5271dc0c6b27"
      },
      "execution_count": 179,
      "outputs": [
        {
          "output_type": "execute_result",
          "data": {
            "text/plain": [
              "    company brand_name country product_category contact_name email_address  \\\n",
              "526     NaN        NaN     NaN              NaN          NaN           NaN   \n",
              "\n",
              "    address_parts license_number  pdf certification_body expiry_date  \\\n",
              "526                          NaN  NaN                NaN         NaT   \n",
              "\n",
              "    product_details  \n",
              "526             NaN  "
            ],
            "text/html": [
              "\n",
              "  <div id=\"df-cd396be8-9d0f-4430-8a65-75dd63fe9486\" class=\"colab-df-container\">\n",
              "    <div>\n",
              "<style scoped>\n",
              "    .dataframe tbody tr th:only-of-type {\n",
              "        vertical-align: middle;\n",
              "    }\n",
              "\n",
              "    .dataframe tbody tr th {\n",
              "        vertical-align: top;\n",
              "    }\n",
              "\n",
              "    .dataframe thead th {\n",
              "        text-align: right;\n",
              "    }\n",
              "</style>\n",
              "<table border=\"1\" class=\"dataframe\">\n",
              "  <thead>\n",
              "    <tr style=\"text-align: right;\">\n",
              "      <th></th>\n",
              "      <th>company</th>\n",
              "      <th>brand_name</th>\n",
              "      <th>country</th>\n",
              "      <th>product_category</th>\n",
              "      <th>contact_name</th>\n",
              "      <th>email_address</th>\n",
              "      <th>address_parts</th>\n",
              "      <th>license_number</th>\n",
              "      <th>pdf</th>\n",
              "      <th>certification_body</th>\n",
              "      <th>expiry_date</th>\n",
              "      <th>product_details</th>\n",
              "    </tr>\n",
              "  </thead>\n",
              "  <tbody>\n",
              "    <tr>\n",
              "      <th>526</th>\n",
              "      <td>NaN</td>\n",
              "      <td>NaN</td>\n",
              "      <td>NaN</td>\n",
              "      <td>NaN</td>\n",
              "      <td>NaN</td>\n",
              "      <td>NaN</td>\n",
              "      <td></td>\n",
              "      <td>NaN</td>\n",
              "      <td>NaN</td>\n",
              "      <td>NaN</td>\n",
              "      <td>NaT</td>\n",
              "      <td>NaN</td>\n",
              "    </tr>\n",
              "  </tbody>\n",
              "</table>\n",
              "</div>\n",
              "    <div class=\"colab-df-buttons\">\n",
              "\n",
              "  <div class=\"colab-df-container\">\n",
              "    <button class=\"colab-df-convert\" onclick=\"convertToInteractive('df-cd396be8-9d0f-4430-8a65-75dd63fe9486')\"\n",
              "            title=\"Convert this dataframe to an interactive table.\"\n",
              "            style=\"display:none;\">\n",
              "\n",
              "  <svg xmlns=\"http://www.w3.org/2000/svg\" height=\"24px\" viewBox=\"0 -960 960 960\">\n",
              "    <path d=\"M120-120v-720h720v720H120Zm60-500h600v-160H180v160Zm220 220h160v-160H400v160Zm0 220h160v-160H400v160ZM180-400h160v-160H180v160Zm440 0h160v-160H620v160ZM180-180h160v-160H180v160Zm440 0h160v-160H620v160Z\"/>\n",
              "  </svg>\n",
              "    </button>\n",
              "\n",
              "  <style>\n",
              "    .colab-df-container {\n",
              "      display:flex;\n",
              "      gap: 12px;\n",
              "    }\n",
              "\n",
              "    .colab-df-convert {\n",
              "      background-color: #E8F0FE;\n",
              "      border: none;\n",
              "      border-radius: 50%;\n",
              "      cursor: pointer;\n",
              "      display: none;\n",
              "      fill: #1967D2;\n",
              "      height: 32px;\n",
              "      padding: 0 0 0 0;\n",
              "      width: 32px;\n",
              "    }\n",
              "\n",
              "    .colab-df-convert:hover {\n",
              "      background-color: #E2EBFA;\n",
              "      box-shadow: 0px 1px 2px rgba(60, 64, 67, 0.3), 0px 1px 3px 1px rgba(60, 64, 67, 0.15);\n",
              "      fill: #174EA6;\n",
              "    }\n",
              "\n",
              "    .colab-df-buttons div {\n",
              "      margin-bottom: 4px;\n",
              "    }\n",
              "\n",
              "    [theme=dark] .colab-df-convert {\n",
              "      background-color: #3B4455;\n",
              "      fill: #D2E3FC;\n",
              "    }\n",
              "\n",
              "    [theme=dark] .colab-df-convert:hover {\n",
              "      background-color: #434B5C;\n",
              "      box-shadow: 0px 1px 3px 1px rgba(0, 0, 0, 0.15);\n",
              "      filter: drop-shadow(0px 1px 2px rgba(0, 0, 0, 0.3));\n",
              "      fill: #FFFFFF;\n",
              "    }\n",
              "  </style>\n",
              "\n",
              "    <script>\n",
              "      const buttonEl =\n",
              "        document.querySelector('#df-cd396be8-9d0f-4430-8a65-75dd63fe9486 button.colab-df-convert');\n",
              "      buttonEl.style.display =\n",
              "        google.colab.kernel.accessAllowed ? 'block' : 'none';\n",
              "\n",
              "      async function convertToInteractive(key) {\n",
              "        const element = document.querySelector('#df-cd396be8-9d0f-4430-8a65-75dd63fe9486');\n",
              "        const dataTable =\n",
              "          await google.colab.kernel.invokeFunction('convertToInteractive',\n",
              "                                                    [key], {});\n",
              "        if (!dataTable) return;\n",
              "\n",
              "        const docLinkHtml = 'Like what you see? Visit the ' +\n",
              "          '<a target=\"_blank\" href=https://colab.research.google.com/notebooks/data_table.ipynb>data table notebook</a>'\n",
              "          + ' to learn more about interactive tables.';\n",
              "        element.innerHTML = '';\n",
              "        dataTable['output_type'] = 'display_data';\n",
              "        await google.colab.output.renderOutput(dataTable, element);\n",
              "        const docLink = document.createElement('div');\n",
              "        docLink.innerHTML = docLinkHtml;\n",
              "        element.appendChild(docLink);\n",
              "      }\n",
              "    </script>\n",
              "  </div>\n",
              "\n",
              "\n",
              "    </div>\n",
              "  </div>\n"
            ]
          },
          "metadata": {},
          "execution_count": 179
        }
      ]
    },
    {
      "cell_type": "markdown",
      "source": [
        "Remove Rows with Missing Values in the 'company' Column\n"
      ],
      "metadata": {
        "id": "dTpsXpgT5YbS"
      }
    },
    {
      "cell_type": "code",
      "source": [
        "df.dropna(subset=['company'], inplace=True)"
      ],
      "metadata": {
        "id": "4PycVJ7V3UWV"
      },
      "execution_count": 180,
      "outputs": []
    },
    {
      "cell_type": "markdown",
      "source": [
        "Check Missing Values After Removing Rows\n"
      ],
      "metadata": {
        "id": "9p8albc05igJ"
      }
    },
    {
      "cell_type": "code",
      "source": [
        "df.isna().sum()"
      ],
      "metadata": {
        "colab": {
          "base_uri": "https://localhost:8080/"
        },
        "id": "yUUs43x-bj9_",
        "outputId": "a755627b-2e6b-40dd-9d4a-b8f0e1ce489a"
      },
      "execution_count": 181,
      "outputs": [
        {
          "output_type": "execute_result",
          "data": {
            "text/plain": [
              "company                 0\n",
              "brand_name            993\n",
              "country                 0\n",
              "product_category        3\n",
              "contact_name          603\n",
              "email_address         555\n",
              "address_parts           0\n",
              "license_number          0\n",
              "pdf                   803\n",
              "certification_body      0\n",
              "expiry_date             0\n",
              "product_details        93\n",
              "dtype: int64"
            ]
          },
          "metadata": {},
          "execution_count": 181
        }
      ]
    },
    {
      "cell_type": "markdown",
      "source": [
        "Clean 'company' and Format 'country' Columns"
      ],
      "metadata": {
        "id": "cNuO5jYg7AMw"
      }
    },
    {
      "cell_type": "code",
      "source": [
        "# Clean 'company' column: Remove specified special characters and leading/trailing whitespaces\n",
        "df['company'] = df['company'].str.replace('[\"“”\\'\\']', '', regex=True).str.strip()\n",
        "# Extract values before parentheses\n",
        "before_parentheses = df['country'].str.extract(r'^([^(\\s]+)')\n",
        "# Extract values within parentheses\n",
        "within_parentheses = df['country'].str.extract(r'\\((.*?)\\)')\n",
        "\n",
        "# Combine both extracted values into a single column\n",
        "df['country'] = before_parentheses + ' (' + within_parentheses + ')'\n",
        "\n",
        "df.head()"
      ],
      "metadata": {
        "colab": {
          "base_uri": "https://localhost:8080/",
          "height": 469
        },
        "id": "gqQEU3fHT1gI",
        "outputId": "10f16d9d-ff51-4ca6-ea6f-c93afc7c2aab"
      },
      "execution_count": 183,
      "outputs": [
        {
          "output_type": "execute_result",
          "data": {
            "text/plain": [
              "                           company brand_name          country  \\\n",
              "0                       P-AQRO MMC        NaN  Azerbaijan (AZ)   \n",
              "1  MOHINI HEALTH & HYGIENE LIMITED        NaN       India (IN)   \n",
              "2     BСT Cluster Agrokompleks LLC        NaN  Uzbekistan (UZ)   \n",
              "3                    TEOFILÓW S.A.        NaN      Poland (PL)   \n",
              "4                Istiqlol-2010 Ltd        NaN  Tajikistan (TJ)   \n",
              "\n",
              "                             product_category      contact_name  \\\n",
              "0                                  Raw Fibres     Nazli Alancay   \n",
              "1  Hygiene products, Product category (other)  Sheheryar Dhatta   \n",
              "2                                  Raw Fibres      Inoyat Nurov   \n",
              "3                                     Fabrics               NaN   \n",
              "4                                  Raw Fibres               NaN   \n",
              "\n",
              "                email_address  \\\n",
              "0  certification@docotton.com   \n",
              "1  sheheryar@mohinifibers.com   \n",
              "2             bctagro@mail.ru   \n",
              "3      office@teofilow.com.pl   \n",
              "4         jamshed@farnico.com   \n",
              "\n",
              "                                       address_parts license_number  \\\n",
              "0                  SHIKHALIEV STREET 14 NARIMANOV        CU 1206162   \n",
              "1  PITHAMPUR 454774 Madhya Pradesh INDIA  Plot No...       00279945   \n",
              "2       43, Amir Timur Street 201000 Romitan city        CU 1240944   \n",
              "3                    ul. Szparagowa 6/8 91-211, Łódź        1127384   \n",
              "4  Polygon site, Khaeti Nav village council, Yava...        1213560   \n",
              "\n",
              "                                                 pdf  \\\n",
              "0  https://global-standard.org/find-suppliers-sho...   \n",
              "1  https://global-standard.org/find-suppliers-sho...   \n",
              "2  https://global-standard.org/find-suppliers-sho...   \n",
              "3                                                NaN   \n",
              "4                                                NaN   \n",
              "\n",
              "             certification_body expiry_date  \\\n",
              "0  Control Union Certifications  2024-03-17   \n",
              "1             Ecocert Greenlife  2024-06-16   \n",
              "2  Control Union Certifications  2024-05-03   \n",
              "3  Control Union Certifications  2024-01-16   \n",
              "4  Control Union Certifications  2024-01-18   \n",
              "\n",
              "                                     product_details  \n",
              "0                                             Fibres  \n",
              "1  Personal care hygiene (PC0013)Undyed fibers (P...  \n",
              "2                                             Fibres  \n",
              "3  Dyed fabrics (PC0025) Knitted fabrics (PD0058)...  \n",
              "4  Undyed fibers (PC0034) Lint cotton (PD0074) 10...  "
            ],
            "text/html": [
              "\n",
              "  <div id=\"df-1124f230-e266-4e2e-92a0-6681fba69f9f\" class=\"colab-df-container\">\n",
              "    <div>\n",
              "<style scoped>\n",
              "    .dataframe tbody tr th:only-of-type {\n",
              "        vertical-align: middle;\n",
              "    }\n",
              "\n",
              "    .dataframe tbody tr th {\n",
              "        vertical-align: top;\n",
              "    }\n",
              "\n",
              "    .dataframe thead th {\n",
              "        text-align: right;\n",
              "    }\n",
              "</style>\n",
              "<table border=\"1\" class=\"dataframe\">\n",
              "  <thead>\n",
              "    <tr style=\"text-align: right;\">\n",
              "      <th></th>\n",
              "      <th>company</th>\n",
              "      <th>brand_name</th>\n",
              "      <th>country</th>\n",
              "      <th>product_category</th>\n",
              "      <th>contact_name</th>\n",
              "      <th>email_address</th>\n",
              "      <th>address_parts</th>\n",
              "      <th>license_number</th>\n",
              "      <th>pdf</th>\n",
              "      <th>certification_body</th>\n",
              "      <th>expiry_date</th>\n",
              "      <th>product_details</th>\n",
              "    </tr>\n",
              "  </thead>\n",
              "  <tbody>\n",
              "    <tr>\n",
              "      <th>0</th>\n",
              "      <td>P-AQRO MMC</td>\n",
              "      <td>NaN</td>\n",
              "      <td>Azerbaijan (AZ)</td>\n",
              "      <td>Raw Fibres</td>\n",
              "      <td>Nazli Alancay</td>\n",
              "      <td>certification@docotton.com</td>\n",
              "      <td>SHIKHALIEV STREET 14 NARIMANOV</td>\n",
              "      <td>CU 1206162</td>\n",
              "      <td>https://global-standard.org/find-suppliers-sho...</td>\n",
              "      <td>Control Union Certifications</td>\n",
              "      <td>2024-03-17</td>\n",
              "      <td>Fibres</td>\n",
              "    </tr>\n",
              "    <tr>\n",
              "      <th>1</th>\n",
              "      <td>MOHINI HEALTH &amp; HYGIENE LIMITED</td>\n",
              "      <td>NaN</td>\n",
              "      <td>India (IN)</td>\n",
              "      <td>Hygiene products, Product category (other)</td>\n",
              "      <td>Sheheryar Dhatta</td>\n",
              "      <td>sheheryar@mohinifibers.com</td>\n",
              "      <td>PITHAMPUR 454774 Madhya Pradesh INDIA  Plot No...</td>\n",
              "      <td>00279945</td>\n",
              "      <td>https://global-standard.org/find-suppliers-sho...</td>\n",
              "      <td>Ecocert Greenlife</td>\n",
              "      <td>2024-06-16</td>\n",
              "      <td>Personal care hygiene (PC0013)Undyed fibers (P...</td>\n",
              "    </tr>\n",
              "    <tr>\n",
              "      <th>2</th>\n",
              "      <td>BСT Cluster Agrokompleks LLC</td>\n",
              "      <td>NaN</td>\n",
              "      <td>Uzbekistan (UZ)</td>\n",
              "      <td>Raw Fibres</td>\n",
              "      <td>Inoyat Nurov</td>\n",
              "      <td>bctagro@mail.ru</td>\n",
              "      <td>43, Amir Timur Street 201000 Romitan city</td>\n",
              "      <td>CU 1240944</td>\n",
              "      <td>https://global-standard.org/find-suppliers-sho...</td>\n",
              "      <td>Control Union Certifications</td>\n",
              "      <td>2024-05-03</td>\n",
              "      <td>Fibres</td>\n",
              "    </tr>\n",
              "    <tr>\n",
              "      <th>3</th>\n",
              "      <td>TEOFILÓW S.A.</td>\n",
              "      <td>NaN</td>\n",
              "      <td>Poland (PL)</td>\n",
              "      <td>Fabrics</td>\n",
              "      <td>NaN</td>\n",
              "      <td>office@teofilow.com.pl</td>\n",
              "      <td>ul. Szparagowa 6/8 91-211, Łódź</td>\n",
              "      <td>1127384</td>\n",
              "      <td>NaN</td>\n",
              "      <td>Control Union Certifications</td>\n",
              "      <td>2024-01-16</td>\n",
              "      <td>Dyed fabrics (PC0025) Knitted fabrics (PD0058)...</td>\n",
              "    </tr>\n",
              "    <tr>\n",
              "      <th>4</th>\n",
              "      <td>Istiqlol-2010 Ltd</td>\n",
              "      <td>NaN</td>\n",
              "      <td>Tajikistan (TJ)</td>\n",
              "      <td>Raw Fibres</td>\n",
              "      <td>NaN</td>\n",
              "      <td>jamshed@farnico.com</td>\n",
              "      <td>Polygon site, Khaeti Nav village council, Yava...</td>\n",
              "      <td>1213560</td>\n",
              "      <td>NaN</td>\n",
              "      <td>Control Union Certifications</td>\n",
              "      <td>2024-01-18</td>\n",
              "      <td>Undyed fibers (PC0034) Lint cotton (PD0074) 10...</td>\n",
              "    </tr>\n",
              "  </tbody>\n",
              "</table>\n",
              "</div>\n",
              "    <div class=\"colab-df-buttons\">\n",
              "\n",
              "  <div class=\"colab-df-container\">\n",
              "    <button class=\"colab-df-convert\" onclick=\"convertToInteractive('df-1124f230-e266-4e2e-92a0-6681fba69f9f')\"\n",
              "            title=\"Convert this dataframe to an interactive table.\"\n",
              "            style=\"display:none;\">\n",
              "\n",
              "  <svg xmlns=\"http://www.w3.org/2000/svg\" height=\"24px\" viewBox=\"0 -960 960 960\">\n",
              "    <path d=\"M120-120v-720h720v720H120Zm60-500h600v-160H180v160Zm220 220h160v-160H400v160Zm0 220h160v-160H400v160ZM180-400h160v-160H180v160Zm440 0h160v-160H620v160ZM180-180h160v-160H180v160Zm440 0h160v-160H620v160Z\"/>\n",
              "  </svg>\n",
              "    </button>\n",
              "\n",
              "  <style>\n",
              "    .colab-df-container {\n",
              "      display:flex;\n",
              "      gap: 12px;\n",
              "    }\n",
              "\n",
              "    .colab-df-convert {\n",
              "      background-color: #E8F0FE;\n",
              "      border: none;\n",
              "      border-radius: 50%;\n",
              "      cursor: pointer;\n",
              "      display: none;\n",
              "      fill: #1967D2;\n",
              "      height: 32px;\n",
              "      padding: 0 0 0 0;\n",
              "      width: 32px;\n",
              "    }\n",
              "\n",
              "    .colab-df-convert:hover {\n",
              "      background-color: #E2EBFA;\n",
              "      box-shadow: 0px 1px 2px rgba(60, 64, 67, 0.3), 0px 1px 3px 1px rgba(60, 64, 67, 0.15);\n",
              "      fill: #174EA6;\n",
              "    }\n",
              "\n",
              "    .colab-df-buttons div {\n",
              "      margin-bottom: 4px;\n",
              "    }\n",
              "\n",
              "    [theme=dark] .colab-df-convert {\n",
              "      background-color: #3B4455;\n",
              "      fill: #D2E3FC;\n",
              "    }\n",
              "\n",
              "    [theme=dark] .colab-df-convert:hover {\n",
              "      background-color: #434B5C;\n",
              "      box-shadow: 0px 1px 3px 1px rgba(0, 0, 0, 0.15);\n",
              "      filter: drop-shadow(0px 1px 2px rgba(0, 0, 0, 0.3));\n",
              "      fill: #FFFFFF;\n",
              "    }\n",
              "  </style>\n",
              "\n",
              "    <script>\n",
              "      const buttonEl =\n",
              "        document.querySelector('#df-1124f230-e266-4e2e-92a0-6681fba69f9f button.colab-df-convert');\n",
              "      buttonEl.style.display =\n",
              "        google.colab.kernel.accessAllowed ? 'block' : 'none';\n",
              "\n",
              "      async function convertToInteractive(key) {\n",
              "        const element = document.querySelector('#df-1124f230-e266-4e2e-92a0-6681fba69f9f');\n",
              "        const dataTable =\n",
              "          await google.colab.kernel.invokeFunction('convertToInteractive',\n",
              "                                                    [key], {});\n",
              "        if (!dataTable) return;\n",
              "\n",
              "        const docLinkHtml = 'Like what you see? Visit the ' +\n",
              "          '<a target=\"_blank\" href=https://colab.research.google.com/notebooks/data_table.ipynb>data table notebook</a>'\n",
              "          + ' to learn more about interactive tables.';\n",
              "        element.innerHTML = '';\n",
              "        dataTable['output_type'] = 'display_data';\n",
              "        await google.colab.output.renderOutput(dataTable, element);\n",
              "        const docLink = document.createElement('div');\n",
              "        docLink.innerHTML = docLinkHtml;\n",
              "        element.appendChild(docLink);\n",
              "      }\n",
              "    </script>\n",
              "  </div>\n",
              "\n",
              "\n",
              "<div id=\"df-873067cc-fe51-4c58-af4d-4b7e93baf111\">\n",
              "  <button class=\"colab-df-quickchart\" onclick=\"quickchart('df-873067cc-fe51-4c58-af4d-4b7e93baf111')\"\n",
              "            title=\"Suggest charts\"\n",
              "            style=\"display:none;\">\n",
              "\n",
              "<svg xmlns=\"http://www.w3.org/2000/svg\" height=\"24px\"viewBox=\"0 0 24 24\"\n",
              "     width=\"24px\">\n",
              "    <g>\n",
              "        <path d=\"M19 3H5c-1.1 0-2 .9-2 2v14c0 1.1.9 2 2 2h14c1.1 0 2-.9 2-2V5c0-1.1-.9-2-2-2zM9 17H7v-7h2v7zm4 0h-2V7h2v10zm4 0h-2v-4h2v4z\"/>\n",
              "    </g>\n",
              "</svg>\n",
              "  </button>\n",
              "\n",
              "<style>\n",
              "  .colab-df-quickchart {\n",
              "      --bg-color: #E8F0FE;\n",
              "      --fill-color: #1967D2;\n",
              "      --hover-bg-color: #E2EBFA;\n",
              "      --hover-fill-color: #174EA6;\n",
              "      --disabled-fill-color: #AAA;\n",
              "      --disabled-bg-color: #DDD;\n",
              "  }\n",
              "\n",
              "  [theme=dark] .colab-df-quickchart {\n",
              "      --bg-color: #3B4455;\n",
              "      --fill-color: #D2E3FC;\n",
              "      --hover-bg-color: #434B5C;\n",
              "      --hover-fill-color: #FFFFFF;\n",
              "      --disabled-bg-color: #3B4455;\n",
              "      --disabled-fill-color: #666;\n",
              "  }\n",
              "\n",
              "  .colab-df-quickchart {\n",
              "    background-color: var(--bg-color);\n",
              "    border: none;\n",
              "    border-radius: 50%;\n",
              "    cursor: pointer;\n",
              "    display: none;\n",
              "    fill: var(--fill-color);\n",
              "    height: 32px;\n",
              "    padding: 0;\n",
              "    width: 32px;\n",
              "  }\n",
              "\n",
              "  .colab-df-quickchart:hover {\n",
              "    background-color: var(--hover-bg-color);\n",
              "    box-shadow: 0 1px 2px rgba(60, 64, 67, 0.3), 0 1px 3px 1px rgba(60, 64, 67, 0.15);\n",
              "    fill: var(--button-hover-fill-color);\n",
              "  }\n",
              "\n",
              "  .colab-df-quickchart-complete:disabled,\n",
              "  .colab-df-quickchart-complete:disabled:hover {\n",
              "    background-color: var(--disabled-bg-color);\n",
              "    fill: var(--disabled-fill-color);\n",
              "    box-shadow: none;\n",
              "  }\n",
              "\n",
              "  .colab-df-spinner {\n",
              "    border: 2px solid var(--fill-color);\n",
              "    border-color: transparent;\n",
              "    border-bottom-color: var(--fill-color);\n",
              "    animation:\n",
              "      spin 1s steps(1) infinite;\n",
              "  }\n",
              "\n",
              "  @keyframes spin {\n",
              "    0% {\n",
              "      border-color: transparent;\n",
              "      border-bottom-color: var(--fill-color);\n",
              "      border-left-color: var(--fill-color);\n",
              "    }\n",
              "    20% {\n",
              "      border-color: transparent;\n",
              "      border-left-color: var(--fill-color);\n",
              "      border-top-color: var(--fill-color);\n",
              "    }\n",
              "    30% {\n",
              "      border-color: transparent;\n",
              "      border-left-color: var(--fill-color);\n",
              "      border-top-color: var(--fill-color);\n",
              "      border-right-color: var(--fill-color);\n",
              "    }\n",
              "    40% {\n",
              "      border-color: transparent;\n",
              "      border-right-color: var(--fill-color);\n",
              "      border-top-color: var(--fill-color);\n",
              "    }\n",
              "    60% {\n",
              "      border-color: transparent;\n",
              "      border-right-color: var(--fill-color);\n",
              "    }\n",
              "    80% {\n",
              "      border-color: transparent;\n",
              "      border-right-color: var(--fill-color);\n",
              "      border-bottom-color: var(--fill-color);\n",
              "    }\n",
              "    90% {\n",
              "      border-color: transparent;\n",
              "      border-bottom-color: var(--fill-color);\n",
              "    }\n",
              "  }\n",
              "</style>\n",
              "\n",
              "  <script>\n",
              "    async function quickchart(key) {\n",
              "      const quickchartButtonEl =\n",
              "        document.querySelector('#' + key + ' button');\n",
              "      quickchartButtonEl.disabled = true;  // To prevent multiple clicks.\n",
              "      quickchartButtonEl.classList.add('colab-df-spinner');\n",
              "      try {\n",
              "        const charts = await google.colab.kernel.invokeFunction(\n",
              "            'suggestCharts', [key], {});\n",
              "      } catch (error) {\n",
              "        console.error('Error during call to suggestCharts:', error);\n",
              "      }\n",
              "      quickchartButtonEl.classList.remove('colab-df-spinner');\n",
              "      quickchartButtonEl.classList.add('colab-df-quickchart-complete');\n",
              "    }\n",
              "    (() => {\n",
              "      let quickchartButtonEl =\n",
              "        document.querySelector('#df-873067cc-fe51-4c58-af4d-4b7e93baf111 button');\n",
              "      quickchartButtonEl.style.display =\n",
              "        google.colab.kernel.accessAllowed ? 'block' : 'none';\n",
              "    })();\n",
              "  </script>\n",
              "</div>\n",
              "\n",
              "    </div>\n",
              "  </div>\n"
            ]
          },
          "metadata": {},
          "execution_count": 183
        }
      ]
    },
    {
      "cell_type": "markdown",
      "source": [
        "## Analusing of the Database\n",
        "\n",
        "\n"
      ],
      "metadata": {
        "id": "JKoHh8VK9avT"
      }
    },
    {
      "cell_type": "markdown",
      "source": [
        "### Which countries have the most certified companies?"
      ],
      "metadata": {
        "id": "MeAO2oNdmCQm"
      }
    },
    {
      "cell_type": "code",
      "source": [
        "import matplotlib.pyplot as plt\n",
        "import seaborn as sns\n",
        "\n",
        "# Count certified companies by country\n",
        "certified_companies_per_country = df.groupby('country')['company'].count().sort_values(ascending=False).head(10)\n",
        "\n",
        "# Create a bar plot for top countries with the most certified companies\n",
        "plt.figure(figsize=(10, 6))\n",
        "plot = sns.barplot(x=certified_companies_per_country.values, y=certified_companies_per_country.index, palette='viridis')\n",
        "plt.xlabel('Number of Certified Companies')\n",
        "plt.ylabel('Country')\n",
        "plt.title('Top Countries with the Most Certified Companies')\n",
        "\n",
        "# Add text annotations inside each bar with count values\n",
        "for index, value in enumerate(certified_companies_per_country.values):\n",
        "    plot.text(value, index, str(value), ha='right', va='center', color='white', fontsize=10)\n",
        "\n",
        "plt.show()\n"
      ],
      "metadata": {
        "colab": {
          "base_uri": "https://localhost:8080/",
          "height": 564
        },
        "id": "Dp5u7SoClgYw",
        "outputId": "76c70dec-16e5-413c-e554-6a458c8a87f4"
      },
      "execution_count": 184,
      "outputs": [
        {
          "output_type": "display_data",
          "data": {
            "text/plain": [
              "<Figure size 1000x600 with 1 Axes>"
            ],
            "image/png": "[encoded data removed]"
          },
          "metadata": {}
        }
      ]
    },
    {
      "cell_type": "markdown",
      "source": [
        "### What are the most certified product categories?"
      ],
      "metadata": {
        "id": "MImY6fCwmIdp"
      }
    },
    {
      "cell_type": "code",
      "source": [
        "# Count occurrences of product categories\n",
        "certified_product_categories = df['product_category'].value_counts().head(10)\n",
        "\n",
        "# Create a horizontal bar plot for top certified product categories\n",
        "plt.figure(figsize=(10, 6))\n",
        "plot = sns.barplot(x=certified_product_categories.values, y=certified_product_categories.index, palette='plasma')\n",
        "plt.xlabel('Number of Certifications')\n",
        "plt.ylabel('Product Category')\n",
        "plt.title('Top Certified Product Categories')\n",
        "\n",
        "# Add text annotations inside each bar with count values\n",
        "for index, value in enumerate(certified_product_categories.values):\n",
        "    plot.text(value, index, str(value), ha='right', va='center', color='white', fontsize=10)\n",
        "\n",
        "plt.show()\n"
      ],
      "metadata": {
        "colab": {
          "base_uri": "https://localhost:8080/",
          "height": 564
        },
        "id": "uY3yK4RPmOaV",
        "outputId": "e0c65c26-0ebf-482f-a1d5-8511e0ba7918"
      },
      "execution_count": 185,
      "outputs": [
        {
          "output_type": "display_data",
          "data": {
            "text/plain": [
              "<Figure size 1000x600 with 1 Axes>"
            ],
            "image/png": "[encoded data removed]"
          },
          "metadata": {}
        }
      ]
    },
    {
      "cell_type": "markdown",
      "source": [
        "### Identify the most common Certification Body.\n"
      ],
      "metadata": {
        "id": "HZzkZj5OmmYY"
      }
    },
    {
      "cell_type": "code",
      "source": [
        "# Count occurrences of Certification Bodies\n",
        "certification_body_counts = df['certification_body'].value_counts().head(10)\n",
        "\n",
        "# Create a horizontal bar plot for top Certification Bodies\n",
        "plt.figure(figsize=(10, 6))\n",
        "plot = sns.barplot(x=certification_body_counts.values, y=certification_body_counts.index, palette='magma')\n",
        "plt.xlabel('Number of Certifications')\n",
        "plt.ylabel('Certification Body')\n",
        "plt.title('Most Common Certification Bodies')\n",
        "\n",
        "# Add text annotations inside each bar with count values\n",
        "for index, value in enumerate(certification_body_counts.values):\n",
        "    plot.text(value, index, str(value), ha='right', va='center', color='white', fontsize=10)\n",
        "\n",
        "plt.show()\n"
      ],
      "metadata": {
        "colab": {
          "base_uri": "https://localhost:8080/",
          "height": 564
        },
        "id": "VlekiYCvmxAL",
        "outputId": "41b70e08-2936-451b-e463-87267f8fb3e1"
      },
      "execution_count": 187,
      "outputs": [
        {
          "output_type": "display_data",
          "data": {
            "text/plain": [
              "<Figure size 1000x600 with 1 Axes>"
            ],
            "image/png": "[encoded data removed]"
          },
          "metadata": {}
        }
      ]
    }
  ]
}